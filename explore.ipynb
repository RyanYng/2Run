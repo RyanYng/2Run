{
 "cells": [
  {
   "cell_type": "code",
   "execution_count": 91,
   "metadata": {},
   "outputs": [],
   "source": [
    "import json \n",
    "import pandas as pd\n",
    "import time"
   ]
  },
  {
   "cell_type": "code",
   "execution_count": 92,
   "metadata": {},
   "outputs": [],
   "source": [
    "# Load the JSON file\n",
    "with open('data/DI_CONNECT/DI-Connect-Fitness/ryanyoung_1999@hotmail.co.uk_0_summarizedActivities.json', 'r') as file:\n",
    "    data = json.load(file)\n",
    "\n",
    "df = pd.DataFrame(data[0]['summarizedActivitiesExport'])\n",
    "df = df[df['activityType'] == 'running']"
   ]
  },
  {
   "cell_type": "markdown",
   "metadata": {},
   "source": [
    "### Transformations"
   ]
  },
  {
   "cell_type": "code",
   "execution_count": null,
   "metadata": {},
   "outputs": [],
   "source": [
    "df['date_time'] =(pd.to_datetime(df['beginTimestamp'],unit='ms'))\n",
    "\n",
    "df['runTimeSeconds'] = df['elapsedDuration']/1000\n",
    "df['runTimeMinutes'] = df['runTimeSeconds']/60\n",
    "df['movingTimeSeconds'] = df['movingDuration']/1000\n",
    "df['movingTimeMinutes'] = df['movingTimeSeconds']/60\n",
    "\n",
    "df['zone0Seconds'] = df['hrTimeInZone_0']/1000\n",
    "df['zone1Seconds'] = df['hrTimeInZone_1']/1000\n",
    "df['zone2Seconds'] = df['hrTimeInZone_2']/1000\n",
    "df['zone3Seconds'] = df['hrTimeInZone_3']/1000\n",
    "df['zone4Seconds'] = df['hrTimeInZone_4']/1000\n",
    "df['zone5Seconds'] = df['hrTimeInZone_5']/1000\n",
    "\n",
    "df['distanceM'] = df['distance']/100\n",
    "df['distanceKM'] = df['distance']/100000\n",
    "\n",
    "\n",
    "df_final = df[\n",
    "    [\n",
    "        'activity_id'\n",
    "       'date_time',\n",
    "       'runTimeSeconds',\n",
    "       'runTimeMinutes',\n",
    "       'movingTimeSeconds',\n",
    "        'movingTimeMinutes',\n",
    "        'zone0Seconds',\n",
    "        'zone1Seconds',\n",
    "        'zone2Seconds',\n",
    "        'zone3Seconds',\n",
    "        'zone4Seconds',\n",
    "        'zone5Seconds',\n",
    "        'distanceM',\n",
    "        'distanceKM',\n",
    "        'avgHr',\n",
    "        'maxHr',\n",
    "        'minHr',\n",
    "        'calories',\n",
    "        'avgRunCadence',\n",
    "        'elevationGain',\n",
    "        'locationName',\n",
    "        'endLongitude',\n",
    "        'endLatitude'\n",
    "    ]\n",
    "]\n"
   ]
  },
  {
   "cell_type": "code",
   "execution_count": 96,
   "metadata": {},
   "outputs": [
    {
     "data": {
      "text/plain": [
       "Index(['date_time', 'runTimeSeconds', 'runTimeMinutes', 'movingTimeSeconds',\n",
       "       'movingTimeMinutes', 'zone0Seconds', 'zone1Seconds', 'zone2Seconds',\n",
       "       'zone3Seconds', 'zone4Seconds', 'zone5Seconds', 'distanceM',\n",
       "       'distanceKM'],\n",
       "      dtype='object')"
      ]
     },
     "execution_count": 96,
     "metadata": {},
     "output_type": "execute_result"
    }
   ],
   "source": [
    "df_final.columns"
   ]
  },
  {
   "cell_type": "code",
   "execution_count": 94,
   "metadata": {},
   "outputs": [
    {
     "data": {
      "text/plain": [
       "Index(['activityId', 'uuidMsb', 'uuidLsb', 'name', 'activityType',\n",
       "       'userProfileId', 'timeZoneId', 'beginTimestamp', 'eventTypeId', 'rule',\n",
       "       'sportType', 'startTimeGmt', 'startTimeLocal', 'duration', 'distance',\n",
       "       'avgSpeed', 'avgHr', 'maxHr', 'minHr', 'calories',\n",
       "       'aerobicTrainingEffect', 'avgFractionalCadence', 'maxFractionalCadence',\n",
       "       'elapsedDuration', 'movingDuration', 'deviceId', 'summarizedDiveInfo',\n",
       "       'manufacturer', 'lapCount', 'hrTimeInZone_0', 'hrTimeInZone_1',\n",
       "       'hrTimeInZone_2', 'hrTimeInZone_3', 'hrTimeInZone_4', 'hrTimeInZone_5',\n",
       "       'decoDive', 'purposeful', 'autoCalcCalories', 'favorite', 'pr',\n",
       "       'elevationCorrected', 'atpActivity', 'parent', 'maxSpeed',\n",
       "       'avgRunCadence', 'maxRunCadence', 'steps', 'avgStrideLength',\n",
       "       'avgDoubleCadence', 'maxDoubleCadence', 'elevationGain',\n",
       "       'elevationLoss', 'startLongitude', 'startLatitude', 'vO2MaxValue',\n",
       "       'minElevation', 'maxElevation', 'locationName', 'maxVerticalSpeed',\n",
       "       'endLongitude', 'endLatitude', 'maxLatitude', 'maxLongitude',\n",
       "       'minLatitude', 'minLongitude', 'date_time', 'runTimeSeconds',\n",
       "       'runTimeMinutes', 'movingTimeSeconds', 'movingTimeMinutes',\n",
       "       'zone0Seconds', 'zone1Seconds', 'zone2Seconds', 'zone3Seconds',\n",
       "       'zone4Seconds', 'zone5Seconds', 'distanceM', 'distanceKM'],\n",
       "      dtype='object')"
      ]
     },
     "execution_count": 94,
     "metadata": {},
     "output_type": "execute_result"
    }
   ],
   "source": [
    "df.columns"
   ]
  },
  {
   "cell_type": "code",
   "execution_count": 95,
   "metadata": {},
   "outputs": [
    {
     "data": {
      "text/plain": [
       "2    1.500923e+06\n",
       "Name: distance, dtype: float64"
      ]
     },
     "execution_count": 95,
     "metadata": {},
     "output_type": "execute_result"
    }
   ],
   "source": [
    "df['distance'].head(1)"
   ]
  },
  {
   "cell_type": "code",
   "execution_count": null,
   "metadata": {},
   "outputs": [],
   "source": []
  }
 ],
 "metadata": {
  "kernelspec": {
   "display_name": "Python 3",
   "language": "python",
   "name": "python3"
  },
  "language_info": {
   "codemirror_mode": {
    "name": "ipython",
    "version": 3
   },
   "file_extension": ".py",
   "mimetype": "text/x-python",
   "name": "python",
   "nbconvert_exporter": "python",
   "pygments_lexer": "ipython3",
   "version": "3.13.1"
  }
 },
 "nbformat": 4,
 "nbformat_minor": 2
}
