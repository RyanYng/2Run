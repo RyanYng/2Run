{
 "cells": [
  {
   "cell_type": "code",
   "execution_count": null,
   "metadata": {},
   "outputs": [],
   "source": [
    "import json \n",
    "import pandas as pd"
   ]
  },
  {
   "cell_type": "code",
   "execution_count": 21,
   "metadata": {},
   "outputs": [],
   "source": [
    "# Load the JSON file\n",
    "with open('data/DI_CONNECT/DI-Connect-Fitness/ryanyoung_1999@hotmail.co.uk_0_summarizedActivities.json', 'r') as file:\n",
    "    data = json.load(file)\n",
    "\n",
    "df = pd.DataFrame(data[0]['summarizedActivitiesExport'])\n",
    "run_df = df[df['activityType'] == 'running']"
   ]
  },
  {
   "cell_type": "code",
   "execution_count": 23,
   "metadata": {},
   "outputs": [
    {
     "data": {
      "text/plain": [
       "Index(['activityId', 'uuidMsb', 'uuidLsb', 'name', 'activityType',\n",
       "       'userProfileId', 'timeZoneId', 'beginTimestamp', 'eventTypeId', 'rule',\n",
       "       'sportType', 'startTimeGmt', 'startTimeLocal', 'duration', 'distance',\n",
       "       'avgSpeed', 'avgHr', 'maxHr', 'minHr', 'calories',\n",
       "       'aerobicTrainingEffect', 'avgFractionalCadence', 'maxFractionalCadence',\n",
       "       'elapsedDuration', 'movingDuration', 'deviceId', 'summarizedDiveInfo',\n",
       "       'manufacturer', 'lapCount', 'hrTimeInZone_0', 'hrTimeInZone_1',\n",
       "       'hrTimeInZone_2', 'hrTimeInZone_3', 'hrTimeInZone_4', 'hrTimeInZone_5',\n",
       "       'decoDive', 'purposeful', 'autoCalcCalories', 'favorite', 'pr',\n",
       "       'elevationCorrected', 'atpActivity', 'parent', 'maxSpeed',\n",
       "       'avgRunCadence', 'maxRunCadence', 'steps', 'avgStrideLength',\n",
       "       'avgDoubleCadence', 'maxDoubleCadence', 'elevationGain',\n",
       "       'elevationLoss', 'startLongitude', 'startLatitude', 'vO2MaxValue',\n",
       "       'minElevation', 'maxElevation', 'locationName', 'maxVerticalSpeed',\n",
       "       'endLongitude', 'endLatitude', 'maxLatitude', 'maxLongitude',\n",
       "       'minLatitude', 'minLongitude'],\n",
       "      dtype='object')"
      ]
     },
     "execution_count": 23,
     "metadata": {},
     "output_type": "execute_result"
    }
   ],
   "source": [
    "run_df.columns"
   ]
  },
  {
   "cell_type": "code",
   "execution_count": null,
   "metadata": {},
   "outputs": [],
   "source": []
  }
 ],
 "metadata": {
  "kernelspec": {
   "display_name": "Python 3",
   "language": "python",
   "name": "python3"
  },
  "language_info": {
   "codemirror_mode": {
    "name": "ipython",
    "version": 3
   },
   "file_extension": ".py",
   "mimetype": "text/x-python",
   "name": "python",
   "nbconvert_exporter": "python",
   "pygments_lexer": "ipython3",
   "version": "3.13.1"
  }
 },
 "nbformat": 4,
 "nbformat_minor": 2
}
